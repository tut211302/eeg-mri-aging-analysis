{
 "cells": [
  {
   "cell_type": "code",
   "execution_count": 7,
   "id": "4f7fbdcf",
   "metadata": {},
   "outputs": [],
   "source": [
    "import os\n",
    "\n",
    "count = 3\n",
    "for i in range(321):    \n",
    "    count = str(count)\n",
    "    new_dir_path_recursive = 'D:\\\\FY2025\\\\Fukuyama\\\\work place\\\\aging prog\\\\data\\\\EEG_MPILMBB_LEMON\\\\EEG_Raw_BIDS_ID\\\\sub-010'+ count.zfill(3) +'\\\\RSEEG'\n",
    "    count = int(count)  \n",
    "    count += 1\n",
    "\n",
    "    os.makedirs(new_dir_path_recursive)\n",
    "    #print(new_dir_path_recursive)"
   ]
  },
  {
   "cell_type": "code",
   "execution_count": null,
   "id": "0425a822",
   "metadata": {},
   "outputs": [],
   "source": []
  }
 ],
 "metadata": {
  "kernelspec": {
   "display_name": "mne",
   "language": "python",
   "name": "python3"
  },
  "language_info": {
   "codemirror_mode": {
    "name": "ipython",
    "version": 3
   },
   "file_extension": ".py",
   "mimetype": "text/x-python",
   "name": "python",
   "nbconvert_exporter": "python",
   "pygments_lexer": "ipython3",
   "version": "3.13.3"
  }
 },
 "nbformat": 4,
 "nbformat_minor": 5
}
